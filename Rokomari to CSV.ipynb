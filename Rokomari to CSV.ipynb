{
 "cells": [
  {
   "cell_type": "markdown",
   "id": "c0c1495a",
   "metadata": {},
   "source": [
    "## Importing library"
   ]
  },
  {
   "cell_type": "code",
   "execution_count": 18,
   "id": "ba02653f",
   "metadata": {},
   "outputs": [],
   "source": [
    "from bs4 import BeautifulSoup\n",
    "import requests\n",
    "import time\n",
    "import datetime\n",
    "import smtplib\n",
    "from csv import writer\n",
    "import pandas as pd"
   ]
  },
  {
   "cell_type": "markdown",
   "id": "78dbe55d",
   "metadata": {},
   "source": [
    "# Connect to Website"
   ]
  },
  {
   "cell_type": "code",
   "execution_count": 24,
   "id": "4e7da19d",
   "metadata": {},
   "outputs": [
    {
     "data": {
      "text/html": [
       "<div>\n",
       "<style scoped>\n",
       "    .dataframe tbody tr th:only-of-type {\n",
       "        vertical-align: middle;\n",
       "    }\n",
       "\n",
       "    .dataframe tbody tr th {\n",
       "        vertical-align: top;\n",
       "    }\n",
       "\n",
       "    .dataframe thead th {\n",
       "        text-align: right;\n",
       "    }\n",
       "</style>\n",
       "<table border=\"1\" class=\"dataframe\">\n",
       "  <thead>\n",
       "    <tr style=\"text-align: right;\">\n",
       "      <th></th>\n",
       "      <th>title</th>\n",
       "      <th>author</th>\n",
       "      <th>price</th>\n",
       "    </tr>\n",
       "  </thead>\n",
       "  <tbody>\n",
       "    <tr>\n",
       "      <th>0</th>\n",
       "      <td>প্রোডাক্টিভ মুসলিমাহ ডেইলি প্ল্যান...</td>\n",
       "      <td>হামিদ সিরাজী</td>\n",
       "      <td>TK. 138</td>\n",
       "    </tr>\n",
       "    <tr>\n",
       "      <th>1</th>\n",
       "      <td>মুসলিম সভ্যতার ১০০১ আবিষ্কার      ...</td>\n",
       "      <td>প্রফেসর সেলিম টি এস আল-হাসসানি    ...</td>\n",
       "      <td>TK. 490</td>\n",
       "    </tr>\n",
       "    <tr>\n",
       "      <th>2</th>\n",
       "      <td>মুনাজাত ও নামায</td>\n",
       "      <td>ড. খোন্দকার আব্দুল্লাহ জাহাঙ্গীর  ...</td>\n",
       "      <td>TK. 37</td>\n",
       "    </tr>\n",
       "    <tr>\n",
       "      <th>3</th>\n",
       "      <td>কুরআনের সাথে পথচলা</td>\n",
       "      <td>নায়লা নুযহাত</td>\n",
       "      <td>TK. 240</td>\n",
       "    </tr>\n",
       "    <tr>\n",
       "      <th>4</th>\n",
       "      <td>কুরবানী ও জাবীহুল্লাহ</td>\n",
       "      <td>ড. খোন্দকার আব্দুল্লাহ জাহাঙ্গীর  ...</td>\n",
       "      <td>TK. 30</td>\n",
       "    </tr>\n",
       "  </tbody>\n",
       "</table>\n",
       "</div>"
      ],
      "text/plain": [
       "                                               title  \\\n",
       "0              প্রোডাক্টিভ মুসলিমাহ ডেইলি প্ল্যান...   \n",
       "1              মুসলিম সভ্যতার ১০০১ আবিষ্কার      ...   \n",
       "2                         মুনাজাত ও নামায              \n",
       "3                      কুরআনের সাথে পথচলা              \n",
       "4                   কুরবানী ও জাবীহুল্লাহ              \n",
       "\n",
       "                                              author  \\\n",
       "0                            হামিদ সিরাজী              \n",
       "1              প্রফেসর সেলিম টি এস আল-হাসসানি    ...   \n",
       "2              ড. খোন্দকার আব্দুল্লাহ জাহাঙ্গীর  ...   \n",
       "3                            নায়লা নুযহাত              \n",
       "4              ড. খোন্দকার আব্দুল্লাহ জাহাঙ্গীর  ...   \n",
       "\n",
       "                              price  \n",
       "0               TK. 138              \n",
       "1               TK. 490              \n",
       "2                TK. 37              \n",
       "3               TK. 240              \n",
       "4                TK. 30              "
      ]
     },
     "execution_count": 24,
     "metadata": {},
     "output_type": "execute_result"
    }
   ],
   "source": [
    "#https://www.rokomari.com/book\n",
    "URL = input()\n",
    "headers={\"User-Agent\": \"Mozilla/5.0 (Macintosh; Intel Mac OS X 10_15_7) AppleWebKit/605.1.15 (KHTML, like Gecko) Version/16.1 Safari/605.1.15\"}\n",
    "\n",
    "page = requests.get(URL, headers=headers)\n",
    "\n",
    "#soupify\n",
    "\n",
    "soup0=BeautifulSoup(page.content,'html.parser')\n",
    "soup1=BeautifulSoup(soup0.prettify(),'html.parser')\n",
    "#page = requests.get(URL)\n",
    "#print(page)\n",
    "\n",
    "\n",
    "\n",
    "#Data To Be Harvested (the bigger source or container of each book)\n",
    "\n",
    "lists = soup1.find_all('div', class_='book-list-wrapper')\n",
    "\n",
    "#to CSV\n",
    "\n",
    "with open('books0.csv', 'w') as f: \n",
    "    thewriter = writer(f)\n",
    "    header = ['title','author','price']\n",
    "    thewriter.writerow(header)\n",
    "\n",
    "    for items in lists:\n",
    "        title = items.find('p',class_='book-title').text.replace('\\n',' ')\n",
    "        author = items.find('p',class_='book-author').text.replace('\\n',' ')\n",
    "        price = items.find('span').text.replace('\\n',' ')\n",
    "        info = [title, author, price]\n",
    "        thewriter.writerow(info)\n",
    "\n",
    "df = pd.read_csv('books0.csv')\n",
    "df.head()"
   ]
  },
  {
   "cell_type": "code",
   "execution_count": 28,
   "id": "f3eedd27",
   "metadata": {},
   "outputs": [
    {
     "ename": "TypeError",
     "evalue": "'list' object is not callable",
     "output_type": "error",
     "traceback": [
      "\u001b[0;31m---------------------------------------------------------------------------\u001b[0m",
      "\u001b[0;31mTypeError\u001b[0m                                 Traceback (most recent call last)",
      "Cell \u001b[0;32mIn [28], line 1\u001b[0m\n\u001b[0;32m----> 1\u001b[0m info()\n",
      "\u001b[0;31mTypeError\u001b[0m: 'list' object is not callable"
     ]
    }
   ],
   "source": []
  },
  {
   "cell_type": "code",
   "execution_count": null,
   "id": "03543bc2",
   "metadata": {},
   "outputs": [],
   "source": []
  }
 ],
 "metadata": {
  "kernelspec": {
   "display_name": "Python 3.10.5 64-bit",
   "language": "python",
   "name": "python3"
  },
  "language_info": {
   "codemirror_mode": {
    "name": "ipython",
    "version": 3
   },
   "file_extension": ".py",
   "mimetype": "text/x-python",
   "name": "python",
   "nbconvert_exporter": "python",
   "pygments_lexer": "ipython3",
   "version": "3.10.5"
  },
  "vscode": {
   "interpreter": {
    "hash": "aee8b7b246df8f9039afb4144a1f6fd8d2ca17a180786b69acc140d282b71a49"
   }
  }
 },
 "nbformat": 4,
 "nbformat_minor": 5
}
